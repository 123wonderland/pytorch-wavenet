{
 "cells": [
  {
   "cell_type": "markdown",
   "metadata": {},
   "source": [
    "# Train WaveNet"
   ]
  },
  {
   "cell_type": "code",
   "execution_count": 1,
   "metadata": {
    "collapsed": true,
    "scrolled": true
   },
   "outputs": [],
   "source": [
    "from wavenet_model import WaveNetModel\n",
    "from wavenet_training import AudioFileLoader, WaveNetOptimizer\n",
    "\n",
    "import torch\n",
    "import numpy as np\n",
    "import time\n",
    "\n",
    "from IPython.display import Audio\n",
    "from matplotlib import pyplot as plt\n",
    "from matplotlib import pylab as pl\n",
    "from IPython import display\n",
    "\n",
    "%matplotlib notebook"
   ]
  },
  {
   "cell_type": "markdown",
   "metadata": {},
   "source": [
    "## Setup Model"
   ]
  },
  {
   "cell_type": "code",
   "execution_count": 2,
   "metadata": {
    "collapsed": true,
    "scrolled": true
   },
   "outputs": [],
   "source": [
    "train_samples = [\"train_samples/clarinet_g.wav\"]\n",
    "sampling_rate = 11025\n",
    "init_model = None\n",
    "\n",
    "layers = 5\n",
    "blocks = 2\n",
    "classes = 256\n",
    "dilation_channels = 32\n",
    "residual_channels = 32\n",
    "skip_channels = 64\n",
    "kernel_size = 2\n",
    "output_length = 2\n",
    "dtype = torch.FloatTensor\n",
    "ltype = torch.LongTensor\n",
    "\n",
    "use_cuda = torch.cuda.is_available()\n",
    "if use_cuda:\n",
    "    dtype = torch.cuda.FloatTensor\n",
    "    ltype = torch.cuda.LongTensor"
   ]
  },
  {
   "cell_type": "code",
   "execution_count": 3,
   "metadata": {
    "collapsed": false,
    "scrolled": true
   },
   "outputs": [
    {
     "name": "stdout",
     "output_type": "stream",
     "text": [
      "receptive field:  2\n",
      "receptive field:  4\n",
      "receptive field:  8\n",
      "receptive field:  16\n",
      "receptive field:  32\n",
      "receptive field:  33\n",
      "receptive field:  35\n",
      "receptive field:  39\n",
      "receptive field:  47\n",
      "receptive field:  63\n",
      "receptive_field:  65\n",
      "parameter count:  88352\n",
      "total duration of training data:  66194.25  samples\n"
     ]
    }
   ],
   "source": [
    "model = WaveNetModel(layers=layers,\n",
    "                     blocks=blocks,\n",
    "                     dilation_channels=dilation_channels,\n",
    "                     residual_channels=residual_channels,\n",
    "                     skip_channels=skip_channels,\n",
    "                     classes=classes,\n",
    "                     output_length=output_length,\n",
    "                     kernel_size=kernel_size,\n",
    "                     dtype=dtype)\n",
    "\n",
    "if use_cuda:\n",
    "    model.cuda()\n",
    "    print(\"use cuda\")\n",
    "\n",
    "#print(\"model: \", model)\n",
    "print(\"receptive_field: \", model.receptive_field)\n",
    "print(\"parameter count: \", model.parameter_count())\n",
    "\n",
    "if init_model != None:\n",
    "    if use_cuda:\n",
    "        model.load_state_dict(torch.load(init_model))\n",
    "    else:\n",
    "        # move to cpu\n",
    "        model.load_state_dict(torch.load(init_model, map_location=lambda storage, loc: storage))\n",
    "\n",
    "data_loader = AudioFileLoader(train_samples,\n",
    "                              classes=classes,\n",
    "                              receptive_field=model.receptive_field,\n",
    "                              target_length=model.output_length,\n",
    "                              dtype=dtype,\n",
    "                              ltype=ltype,\n",
    "                              sampling_rate=sampling_rate)"
   ]
  },
  {
   "cell_type": "code",
   "execution_count": 8,
   "metadata": {
    "collapsed": false
   },
   "outputs": [
    {
     "name": "stdout",
     "output_type": "stream",
     "text": [
      "Variable containing:\n",
      "\n",
      "Columns 0 to 9 \n",
      "-0.1752 -0.0712 -0.0934  0.0705  0.1417  0.0195  0.0069  0.0288  0.0156  0.0497\n",
      "-0.1181 -0.0903 -0.0407  0.1058  0.1014  0.0023  0.0261  0.0379 -0.0082  0.0389\n",
      "\n",
      "Columns 10 to 19 \n",
      "-0.0796 -0.0611  0.0460 -0.0780 -0.0156 -0.0464  0.1748  0.0511 -0.0380 -0.0672\n",
      "-0.0897 -0.1031  0.0831 -0.0422 -0.0688 -0.0317  0.1613 -0.0210 -0.0249 -0.0508\n",
      "\n",
      "Columns 20 to 29 \n",
      " 0.1196 -0.1169  0.1310  0.0454  0.0265  0.0207 -0.1326 -0.1505 -0.1080  0.1398\n",
      " 0.0239 -0.0880  0.1456  0.0529  0.0852  0.0424 -0.1607 -0.1453 -0.0730  0.1479\n",
      "\n",
      "Columns 30 to 39 \n",
      "-0.0447  0.0323 -0.0197 -0.0192  0.0231  0.3000  0.0262  0.0570  0.0214 -0.0544\n",
      "-0.0258  0.0226 -0.0393 -0.0798  0.0425  0.2541  0.0019  0.0213  0.0289 -0.0640\n",
      "\n",
      "Columns 40 to 49 \n",
      " 0.0070  0.1030  0.0248  0.1684 -0.1234 -0.1029 -0.0452  0.0170  0.1161 -0.1184\n",
      "-0.0124  0.0700  0.0130  0.1763 -0.0735 -0.1067 -0.0048  0.0219  0.0896 -0.1199\n",
      "\n",
      "Columns 50 to 59 \n",
      "-0.0113 -0.0883 -0.1327 -0.1073  0.0324  0.0221 -0.0231  0.1399 -0.0315 -0.1523\n",
      " 0.0306 -0.1142 -0.1454 -0.0946  0.0288  0.0741 -0.0606  0.0824 -0.0668 -0.1490\n",
      "\n",
      "Columns 60 to 69 \n",
      " 0.1128 -0.0930 -0.0955 -0.0577  0.0429 -0.0606  0.1231  0.0631 -0.0862  0.0030\n",
      " 0.0275 -0.0937 -0.0461 -0.0215  0.0070  0.0179  0.1093  0.0803 -0.1167 -0.0129\n",
      "\n",
      "Columns 70 to 79 \n",
      " 0.0154  0.1249  0.0613 -0.1203 -0.0074 -0.0154  0.1344  0.1737  0.0449 -0.0331\n",
      " 0.0516  0.0815  0.0679 -0.0857 -0.0140 -0.0406  0.0738  0.1060  0.0529  0.0084\n",
      "\n",
      "Columns 80 to 89 \n",
      "-0.1117  0.0053  0.1934  0.0582  0.1251  0.1567 -0.0768  0.0076  0.2015 -0.0338\n",
      "-0.2111 -0.0261  0.1809  0.0019  0.1174  0.1025 -0.0141  0.1141  0.1737 -0.0571\n",
      "\n",
      "Columns 90 to 99 \n",
      "-0.0699  0.0824  0.0335 -0.1615  0.0737 -0.1840  0.0189  0.1427 -0.0831 -0.1468\n",
      "-0.0389  0.0995  0.0743 -0.1465  0.0566 -0.1589  0.0955  0.0917 -0.0832 -0.0662\n",
      "\n",
      "Columns 100 to 109 \n",
      " 0.0162 -0.0949  0.0989  0.1493  0.1834 -0.0505 -0.0047  0.1484 -0.0355  0.0525\n",
      " 0.0567 -0.1763  0.0710  0.1926  0.1217 -0.0933 -0.0845  0.0532 -0.0832  0.0121\n",
      "\n",
      "Columns 110 to 119 \n",
      " 0.0711 -0.0834  0.0158  0.0019 -0.0520  0.0845  0.0502  0.0562  0.1465  0.0044\n",
      " 0.0463 -0.0864  0.0000  0.0154  0.0035  0.1274  0.0653  0.0170  0.1772  0.0336\n",
      "\n",
      "Columns 120 to 129 \n",
      "-0.2837 -0.0720 -0.0756  0.0180  0.0323 -0.0893 -0.1054  0.1698  0.0511 -0.0392\n",
      "-0.2944 -0.0765 -0.1432 -0.0118  0.0335 -0.1185 -0.0468  0.1853 -0.0819  0.0190\n",
      "\n",
      "Columns 130 to 139 \n",
      "-0.0110 -0.0428  0.0040  0.0258  0.0014 -0.0787  0.0778  0.0443 -0.0463 -0.0706\n",
      "-0.0794 -0.0442  0.0172  0.0197 -0.0128 -0.0762  0.0230  0.0083  0.0051  0.0233\n",
      "\n",
      "Columns 140 to 149 \n",
      "-0.0821 -0.0214 -0.0819  0.0454  0.0808 -0.0228 -0.0488 -0.1242  0.1129 -0.0346\n",
      "-0.0905  0.0171 -0.1473  0.0521  0.1285 -0.0419 -0.0910 -0.1288  0.0584 -0.0537\n",
      "\n",
      "Columns 150 to 159 \n",
      "-0.0397  0.0503  0.0294 -0.0760  0.1121  0.0324  0.0270  0.0543  0.1739  0.1420\n",
      "-0.0441  0.0489  0.0712 -0.1245  0.1245 -0.0102  0.0757 -0.0214  0.1478  0.1596\n",
      "\n",
      "Columns 160 to 169 \n",
      " 0.0058 -0.0484  0.0194  0.1137  0.1443 -0.0006  0.1211 -0.1038 -0.1219 -0.1580\n",
      "-0.0035 -0.0609 -0.0365  0.0910  0.0878  0.0475  0.0340 -0.1016 -0.0536 -0.1564\n",
      "\n",
      "Columns 170 to 179 \n",
      " 0.1080  0.0215 -0.1250 -0.0401  0.0784  0.0867  0.0967 -0.0377 -0.0873 -0.0960\n",
      " 0.1161  0.0802 -0.1007 -0.0457  0.0272  0.1141  0.0939 -0.0803 -0.0970 -0.0732\n",
      "\n",
      "Columns 180 to 189 \n",
      " 0.0010  0.0379  0.0453 -0.0629  0.1014 -0.0866 -0.0344  0.1419 -0.1823 -0.1371\n",
      " 0.0655  0.0064 -0.0183 -0.0737  0.1014 -0.0494 -0.0335  0.0812 -0.1392 -0.1249\n",
      "\n",
      "Columns 190 to 199 \n",
      "-0.1019  0.0967 -0.1632 -0.1345 -0.1140 -0.1813  0.0928 -0.0272  0.0901 -0.1580\n",
      "-0.1140  0.0164 -0.1110 -0.0658 -0.0596 -0.1102  0.0971  0.0007  0.0507 -0.1474\n",
      "\n",
      "Columns 200 to 209 \n",
      " 0.0483  0.0762 -0.1303 -0.0525  0.0266 -0.0279  0.0356 -0.1129  0.1430 -0.0450\n",
      " 0.1061  0.0630 -0.1129 -0.1277  0.0348 -0.0078  0.0190 -0.1695  0.1062 -0.0407\n",
      "\n",
      "Columns 210 to 219 \n",
      " 0.0539  0.0402 -0.0568 -0.0319 -0.0424 -0.0047  0.0148 -0.1052 -0.0243  0.0976\n",
      " 0.0482  0.0490 -0.0364  0.0089 -0.0901  0.0296  0.0767 -0.1406 -0.0095  0.0456\n",
      "\n",
      "Columns 220 to 229 \n",
      " 0.0082 -0.1220  0.0159 -0.1659  0.1064 -0.0266 -0.0412 -0.1723 -0.0664  0.0360\n",
      " 0.0740 -0.1123  0.0330 -0.1220  0.0881 -0.0601 -0.0446 -0.1098 -0.0750  0.0610\n",
      "\n",
      "Columns 230 to 239 \n",
      "-0.0975 -0.0804  0.1708  0.1477  0.1203 -0.1085 -0.0916  0.0709  0.0444 -0.0738\n",
      "-0.0796 -0.0866  0.1004  0.1025  0.0729 -0.1049 -0.1604  0.0773  0.0065 -0.0352\n",
      "\n",
      "Columns 240 to 249 \n",
      " 0.1504  0.0282 -0.0631 -0.1786  0.0650  0.0140 -0.0436  0.0161  0.0317 -0.2291\n",
      " 0.0868  0.0926 -0.0804 -0.1527  0.0603  0.0579 -0.0319 -0.0100  0.0510 -0.2569\n",
      "\n",
      "Columns 250 to 255 \n",
      "-0.0894  0.1047  0.2114 -0.0137 -0.0858  0.0101\n",
      "-0.1059  0.0453  0.1439  0.0176 -0.1139 -0.0269\n",
      "[torch.FloatTensor of size 2x256]\n",
      "\n"
     ]
    },
    {
     "data": {
      "image/svg+xml": [
       "<?xml version=\"1.0\" encoding=\"UTF-8\" standalone=\"no\"?>\n",
       "<!DOCTYPE svg PUBLIC \"-//W3C//DTD SVG 1.1//EN\"\n",
       " \"http://www.w3.org/Graphics/SVG/1.1/DTD/svg11.dtd\">\n",
       "<!-- Generated by graphviz version 2.38.0 (20140413.2041)\n",
       " -->\n",
       "<!-- Title: %3 Pages: 1 -->\n",
       "<svg width=\"62pt\" height=\"28pt\"\n",
       " viewBox=\"0.00 0.00 62.00 28.00\" xmlns=\"http://www.w3.org/2000/svg\" xmlns:xlink=\"http://www.w3.org/1999/xlink\">\n",
       "<g id=\"graph0\" class=\"graph\" transform=\"scale(1 1) rotate(0) translate(4 24)\">\n",
       "<title>%3</title>\n",
       "<polygon fill=\"white\" stroke=\"none\" points=\"-4,4 -4,-24 58,-24 58,4 -4,4\"/>\n",
       "<!-- 4962878632 -->\n",
       "<g id=\"node1\" class=\"node\"><title>4962878632</title>\n",
       "<polygon fill=\"lightgrey\" stroke=\"black\" points=\"54,-20 0,-20 0,-0 54,-0 54,-20\"/>\n",
       "<text text-anchor=\"middle\" x=\"27\" y=\"-6.4\" font-family=\"Times,serif\" font-size=\"12.00\">View</text>\n",
       "</g>\n",
       "</g>\n",
       "</svg>\n"
      ],
      "text/plain": [
       "<graphviz.dot.Digraph at 0x127ce9f98>"
      ]
     },
     "execution_count": 8,
     "metadata": {},
     "output_type": "execute_result"
    }
   ],
   "source": [
    "from visualize import make_dot\n",
    "from torch.autograd import Variable\n",
    "\n",
    "input = Variable(torch.rand(1, 1, 256))\n",
    "output = model(input)\n",
    "params = dict(model.named_parameters())\n",
    "#output.backward()\n",
    "print(output)\n",
    "\n",
    "make_dot(output, params)"
   ]
  },
  {
   "cell_type": "code",
   "execution_count": null,
   "metadata": {
    "collapsed": false,
    "scrolled": true
   },
   "outputs": [],
   "source": [
    "\n",
    "print(\"output length: \",  model.output_length)\n",
    "\n",
    "data_loader.start_new_epoch()\n",
    "start_data = data_loader.get_wavenet_minibatch([model.receptive_field], \n",
    "                                               model.receptive_field,\n",
    "                                               model.output_length)[0]\n",
    "start_data = start_data.squeeze()\n",
    "\n",
    "plt.ion()\n",
    "plt.plot(start_data[-200:].numpy())\n",
    "plt.ioff()\n",
    "\n"
   ]
  },
  {
   "cell_type": "markdown",
   "metadata": {},
   "source": [
    "## Train Model"
   ]
  },
  {
   "cell_type": "code",
   "execution_count": null,
   "metadata": {
    "collapsed": true,
    "scrolled": true
   },
   "outputs": [],
   "source": [
    "learning_rate = 0.03\n",
    "mini_batch_size = 32\n",
    "report_interval = 4\n",
    "validation_interval = 64\n",
    "snapshot_interval = 512\n",
    "epochs = 250\n",
    "segments_per_chunk=16\n",
    "examples_per_segment=32\n",
    "validation_segments = 8\n",
    "examples_per_validation_segment = 8\n",
    "model_path = \"model_parameters/clarinet_g_7-3-256-32-32-64-2\""
   ]
  },
  {
   "cell_type": "code",
   "execution_count": null,
   "metadata": {
    "collapsed": false,
    "scrolled": true
   },
   "outputs": [],
   "source": [
    "def report_callback(opt):\n",
    "    ax.clear()\n",
    "    ax.grid(linestyle=\"--\", axis=\"y\")\n",
    "    ax.plot(opt.loss_positions, opt.losses)\n",
    "    ax.plot(opt.validation_result_positions, opt.validation_results)\n",
    "    fig.canvas.draw()\n",
    "    \n",
    "#def test_callback(test_results, positions):\n",
    "    \n",
    "optimizer = WaveNetOptimizer(model,\n",
    "                             data=data_loader,\n",
    "                             validation_segments=validation_segments,\n",
    "                             examples_per_validation_segment=examples_per_validation_segment,\n",
    "                             report_callback=report_callback,\n",
    "                             report_interval=report_interval,\n",
    "                             validation_interval=validation_interval,\n",
    "                             validation_report_callback=None,\n",
    "                             snapshot_interval=snapshot_interval,\n",
    "                             snapshot_file=model_path)\n"
   ]
  },
  {
   "cell_type": "code",
   "execution_count": null,
   "metadata": {
    "collapsed": false,
    "scrolled": false
   },
   "outputs": [],
   "source": [
    "fig = plt.figure()\n",
    "ax = fig.add_subplot(111)\n",
    "plt.ion()\n",
    "\n",
    "fig.show()\n",
    "fig.canvas.draw()\n",
    "\n",
    "print('start training...')\n",
    "tic = time.time()\n",
    "optimizer.train(learning_rate=learning_rate,\n",
    "                minibatch_size=mini_batch_size,\n",
    "                epochs=epochs,\n",
    "                segments_per_chunk=segments_per_chunk,\n",
    "                examples_per_segment=examples_per_segment)\n",
    "toc = time.time()\n",
    "print('Training took {} seconds.'.format(toc-tic))"
   ]
  },
  {
   "cell_type": "code",
   "execution_count": null,
   "metadata": {
    "collapsed": false
   },
   "outputs": [],
   "source": [
    "optimizer.step_times"
   ]
  },
  {
   "cell_type": "code",
   "execution_count": null,
   "metadata": {
    "collapsed": true,
    "scrolled": true
   },
   "outputs": [],
   "source": [
    "torch.save(model.state_dict(), model_path)"
   ]
  },
  {
   "cell_type": "code",
   "execution_count": null,
   "metadata": {
    "collapsed": true,
    "scrolled": true
   },
   "outputs": [],
   "source": []
  }
 ],
 "metadata": {
  "anaconda-cloud": {},
  "kernelspec": {
   "display_name": "Python [conda root]",
   "language": "python",
   "name": "conda-root-py"
  },
  "language_info": {
   "codemirror_mode": {
    "name": "ipython",
    "version": 3
   },
   "file_extension": ".py",
   "mimetype": "text/x-python",
   "name": "python",
   "nbconvert_exporter": "python",
   "pygments_lexer": "ipython3",
   "version": "3.5.2"
  }
 },
 "nbformat": 4,
 "nbformat_minor": 1
}
